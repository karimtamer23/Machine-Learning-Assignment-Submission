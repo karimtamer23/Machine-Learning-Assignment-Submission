{
 "cells": [
  {
   "cell_type": "code",
   "execution_count": 121,
   "id": "7a4d7988",
   "metadata": {},
   "outputs": [],
   "source": [
    "import numpy as np # linear algebra\n",
    "import pandas as pd # data processing, CSV file I/O (e.g. pd.read_csv)\n",
    "from sklearn.model_selection import train_test_split\n",
    "from sklearn.linear_model import LogisticRegression\n",
    "from sklearn.metrics import accuracy_score\n",
    "from sklearn.preprocessing import PolynomialFeatures\n",
    "from sklearn import preprocessing\n",
    "from sklearn.metrics import mean_squared_error, r2_score\n",
    "from sklearn.model_selection import KFold\n",
    "from sklearn.model_selection import cross_val_score\n",
    "from numpy import mean\n",
    "from numpy import absolute\n",
    "from numpy import sqrt\n",
    "from sklearn.model_selection import StratifiedKFold\n",
    "from sklearn.linear_model import ElasticNet, Lasso, Ridge\n",
    "import matplotlib.pyplot as plt\n",
    "\n"
   ]
  },
  {
   "cell_type": "code",
   "execution_count": 122,
   "id": "33e20ba0",
   "metadata": {},
   "outputs": [],
   "source": [
    "df=pd.read_csv('Fraud.csv')\n"
   ]
  },
  {
   "cell_type": "code",
   "execution_count": 123,
   "id": "25670164",
   "metadata": {},
   "outputs": [
    {
     "data": {
      "text/html": [
       "<div>\n",
       "<style scoped>\n",
       "    .dataframe tbody tr th:only-of-type {\n",
       "        vertical-align: middle;\n",
       "    }\n",
       "\n",
       "    .dataframe tbody tr th {\n",
       "        vertical-align: top;\n",
       "    }\n",
       "\n",
       "    .dataframe thead th {\n",
       "        text-align: right;\n",
       "    }\n",
       "</style>\n",
       "<table border=\"1\" class=\"dataframe\">\n",
       "  <thead>\n",
       "    <tr style=\"text-align: right;\">\n",
       "      <th></th>\n",
       "      <th>step</th>\n",
       "      <th>type</th>\n",
       "      <th>amount</th>\n",
       "      <th>nameOrig</th>\n",
       "      <th>oldbalanceOrg</th>\n",
       "      <th>newbalanceOrig</th>\n",
       "      <th>nameDest</th>\n",
       "      <th>oldbalanceDest</th>\n",
       "      <th>newbalanceDest</th>\n",
       "      <th>isFraud</th>\n",
       "      <th>isFlaggedFraud</th>\n",
       "    </tr>\n",
       "  </thead>\n",
       "  <tbody>\n",
       "    <tr>\n",
       "      <th>0</th>\n",
       "      <td>1</td>\n",
       "      <td>PAYMENT</td>\n",
       "      <td>9839.64</td>\n",
       "      <td>C1231006815</td>\n",
       "      <td>170136.0</td>\n",
       "      <td>160296.36</td>\n",
       "      <td>M1979787155</td>\n",
       "      <td>0.0</td>\n",
       "      <td>0.0</td>\n",
       "      <td>0</td>\n",
       "      <td>0</td>\n",
       "    </tr>\n",
       "    <tr>\n",
       "      <th>1</th>\n",
       "      <td>1</td>\n",
       "      <td>PAYMENT</td>\n",
       "      <td>1864.28</td>\n",
       "      <td>C1666544295</td>\n",
       "      <td>21249.0</td>\n",
       "      <td>19384.72</td>\n",
       "      <td>M2044282225</td>\n",
       "      <td>0.0</td>\n",
       "      <td>0.0</td>\n",
       "      <td>0</td>\n",
       "      <td>0</td>\n",
       "    </tr>\n",
       "    <tr>\n",
       "      <th>2</th>\n",
       "      <td>1</td>\n",
       "      <td>TRANSFER</td>\n",
       "      <td>181.00</td>\n",
       "      <td>C1305486145</td>\n",
       "      <td>181.0</td>\n",
       "      <td>0.00</td>\n",
       "      <td>C553264065</td>\n",
       "      <td>0.0</td>\n",
       "      <td>0.0</td>\n",
       "      <td>1</td>\n",
       "      <td>0</td>\n",
       "    </tr>\n",
       "    <tr>\n",
       "      <th>3</th>\n",
       "      <td>1</td>\n",
       "      <td>CASH_OUT</td>\n",
       "      <td>181.00</td>\n",
       "      <td>C840083671</td>\n",
       "      <td>181.0</td>\n",
       "      <td>0.00</td>\n",
       "      <td>C38997010</td>\n",
       "      <td>21182.0</td>\n",
       "      <td>0.0</td>\n",
       "      <td>1</td>\n",
       "      <td>0</td>\n",
       "    </tr>\n",
       "    <tr>\n",
       "      <th>4</th>\n",
       "      <td>1</td>\n",
       "      <td>PAYMENT</td>\n",
       "      <td>11668.14</td>\n",
       "      <td>C2048537720</td>\n",
       "      <td>41554.0</td>\n",
       "      <td>29885.86</td>\n",
       "      <td>M1230701703</td>\n",
       "      <td>0.0</td>\n",
       "      <td>0.0</td>\n",
       "      <td>0</td>\n",
       "      <td>0</td>\n",
       "    </tr>\n",
       "  </tbody>\n",
       "</table>\n",
       "</div>"
      ],
      "text/plain": [
       "   step      type    amount     nameOrig  oldbalanceOrg  newbalanceOrig  \\\n",
       "0     1   PAYMENT   9839.64  C1231006815       170136.0       160296.36   \n",
       "1     1   PAYMENT   1864.28  C1666544295        21249.0        19384.72   \n",
       "2     1  TRANSFER    181.00  C1305486145          181.0            0.00   \n",
       "3     1  CASH_OUT    181.00   C840083671          181.0            0.00   \n",
       "4     1   PAYMENT  11668.14  C2048537720        41554.0        29885.86   \n",
       "\n",
       "      nameDest  oldbalanceDest  newbalanceDest  isFraud  isFlaggedFraud  \n",
       "0  M1979787155             0.0             0.0        0               0  \n",
       "1  M2044282225             0.0             0.0        0               0  \n",
       "2   C553264065             0.0             0.0        1               0  \n",
       "3    C38997010         21182.0             0.0        1               0  \n",
       "4  M1230701703             0.0             0.0        0               0  "
      ]
     },
     "execution_count": 123,
     "metadata": {},
     "output_type": "execute_result"
    }
   ],
   "source": [
    "df.head()"
   ]
  },
  {
   "cell_type": "code",
   "execution_count": 124,
   "id": "48413bf2",
   "metadata": {},
   "outputs": [
    {
     "data": {
      "text/plain": [
       "Index(['step', 'type', 'amount', 'oldbalanceOrg', 'newbalanceOrig',\n",
       "       'oldbalanceDest', 'newbalanceDest', 'isFraud', 'isFlaggedFraud'],\n",
       "      dtype='object')"
      ]
     },
     "execution_count": 124,
     "metadata": {},
     "output_type": "execute_result"
    }
   ],
   "source": [
    "df.drop(['nameOrig','nameDest'],axis=1,inplace=True)\n",
    "df.columns"
   ]
  },
  {
   "cell_type": "code",
   "execution_count": 125,
   "id": "ba5ce1d3",
   "metadata": {},
   "outputs": [
    {
     "name": "stdout",
     "output_type": "stream",
     "text": [
      "<class 'pandas.core.frame.DataFrame'>\n",
      "RangeIndex: 6362620 entries, 0 to 6362619\n",
      "Data columns (total 9 columns):\n",
      " #   Column          Dtype  \n",
      "---  ------          -----  \n",
      " 0   step            int64  \n",
      " 1   type            object \n",
      " 2   amount          float64\n",
      " 3   oldbalanceOrg   float64\n",
      " 4   newbalanceOrig  float64\n",
      " 5   oldbalanceDest  float64\n",
      " 6   newbalanceDest  float64\n",
      " 7   isFraud         int64  \n",
      " 8   isFlaggedFraud  int64  \n",
      "dtypes: float64(5), int64(3), object(1)\n",
      "memory usage: 436.9+ MB\n"
     ]
    }
   ],
   "source": [
    "df.info()\n"
   ]
  },
  {
   "cell_type": "code",
   "execution_count": 126,
   "id": "2a14fe72",
   "metadata": {},
   "outputs": [],
   "source": [
    "from sklearn.preprocessing import LabelEncoder\n",
    "\n",
    "la=LabelEncoder()\n",
    "df['type']=la.fit_transform(df['type'])"
   ]
  },
  {
   "cell_type": "code",
   "execution_count": 127,
   "id": "b29c24d8",
   "metadata": {},
   "outputs": [
    {
     "data": {
      "text/plain": [
       "1    2237500\n",
       "3    2151495\n",
       "0    1399284\n",
       "4     532909\n",
       "2      41432\n",
       "Name: type, dtype: int64"
      ]
     },
     "execution_count": 127,
     "metadata": {},
     "output_type": "execute_result"
    }
   ],
   "source": [
    "df['type'].value_counts()\n"
   ]
  },
  {
   "cell_type": "code",
   "execution_count": 128,
   "id": "ae1fdbaf",
   "metadata": {},
   "outputs": [],
   "source": [
    "Train=df.drop('isFraud',axis=1)\n",
    "scaler = preprocessing.MinMaxScaler()\n",
    "Train_scaled = scaler.fit_transform(Train)\n",
    "Test=df['isFraud']"
   ]
  },
  {
   "cell_type": "code",
   "execution_count": 129,
   "id": "58701267",
   "metadata": {},
   "outputs": [
    {
     "name": "stdout",
     "output_type": "stream",
     "text": [
      "X_train shape: (3817572, 8)\n",
      "X_test shape: (1272524, 8)\n",
      "y_train shape: (3817572,)\n",
      "y_test shape: (1272524,)\n",
      "X_val shape: (1272524, 8)\n",
      "y_val shape: (1272524,)\n"
     ]
    }
   ],
   "source": [
    "#TRAIN/TEST/CV SETS\n",
    "X_train, X_test, Y_train, Y_test = train_test_split(Train_scaled, Test,\n",
    "    test_size=0.2,random_state = 0)\n",
    "\n",
    "X_train, X_val, Y_train, Y_val = train_test_split(X_train, Y_train, \n",
    "    test_size=0.25, random_state= 0) # 0.25 x 0.8 = 0.2\n",
    "print(\"X_train shape: {}\".format(X_train.shape))\n",
    "print(\"X_test shape: {}\".format(X_test.shape))\n",
    "print(\"y_train shape: {}\".format(Y_train.shape))\n",
    "print(\"y_test shape: {}\".format(Y_test.shape))\n",
    "print(\"X_val shape: {}\".format(X_val.shape))\n",
    "print(\"y_val shape: {}\".format(Y_val.shape))"
   ]
  },
  {
   "cell_type": "code",
   "execution_count": 130,
   "id": "ebf6325d",
   "metadata": {},
   "outputs": [
    {
     "name": "stdout",
     "output_type": "stream",
     "text": [
      "Accuracy : 0.9988015943\n",
      "RMSE is 0.03461799659458612\n",
      "R2 score is 0.06948865140597249\n",
      "Coffiecients: [[  3.54146337   1.50140599  17.45139248  44.05437738 -35.93900909\n",
      "   -7.67097388  -8.90344852   4.02377289]]\n",
      "Intercept: [-8.90893806]\n"
     ]
    }
   ],
   "source": [
    "################### Degree 1 ################\n",
    "lr_clf=LogisticRegression()\n",
    "lr_clf.fit(X_train,Y_train)\n",
    "lr_pred=lr_clf.predict(X_test)\n",
    "print(\"Accuracy : {:0.10f}\".format(accuracy_score(Y_test,lr_pred)))\n",
    "rmse = (np.sqrt(mean_squared_error(Y_test, lr_pred)))\n",
    "r2 = r2_score(Y_test, lr_pred)\n",
    "print('RMSE is {}'.format(rmse))\n",
    "print('R2 score is {}'.format(r2))\n",
    "print(\"Coffiecients: {}\".format(lr_clf.coef_))\n",
    "print(\"Intercept: {}\".format(lr_clf.intercept_))"
   ]
  },
  {
   "cell_type": "code",
   "execution_count": 131,
   "id": "d07a361d",
   "metadata": {},
   "outputs": [
    {
     "name": "stderr",
     "output_type": "stream",
     "text": [
      "C:\\Users\\karim tamer\\anaconda3\\lib\\site-packages\\sklearn\\linear_model\\_logistic.py:444: ConvergenceWarning: lbfgs failed to converge (status=1):\n",
      "STOP: TOTAL NO. of ITERATIONS REACHED LIMIT.\n",
      "\n",
      "Increase the number of iterations (max_iter) or scale the data as shown in:\n",
      "    https://scikit-learn.org/stable/modules/preprocessing.html\n",
      "Please also refer to the documentation for alternative solver options:\n",
      "    https://scikit-learn.org/stable/modules/linear_model.html#logistic-regression\n",
      "  n_iter_i = _check_optimize_result(\n"
     ]
    },
    {
     "name": "stdout",
     "output_type": "stream",
     "text": [
      "Accuracy : 0.9988456013\n",
      "RMSE is 0.03397644271655943\n",
      "R2 score is 0.10365824846909744\n",
      "Coefficients: [[-9.50008835e-01 -2.47236377e+00 -3.67389374e+00  1.65294899e+01\n",
      "   3.55336584e+01 -3.21098230e+01 -5.36888485e+00 -4.84944546e+00\n",
      "   1.49366129e+00  6.12946194e+00 -5.03411100e-01  6.66994856e+00\n",
      "   1.50743889e+01 -1.48447330e+01 -2.15681547e+00 -2.01896184e+00\n",
      "   7.36152371e-01  5.05815130e+00  6.83374533e-01  2.94151976e+01\n",
      "  -3.45704617e+00 -6.20900204e+00 -1.04015955e+01  1.49366129e+00\n",
      "  -2.08299870e+00  1.82951275e+00 -3.12858414e-02 -5.26193072e-01\n",
      "  -1.19248270e+00  3.60868713e-02 -1.27118455e-01 -3.71110299e+00\n",
      "   1.35390278e-02  3.69376218e-01  6.20022727e-02 -4.57336685e+00\n",
      "  -1.27674285e-01 -1.18704131e-01  7.45065022e-02  1.89674750e-01\n",
      "   5.02803955e-02  0.00000000e+00 -2.86521473e-01  0.00000000e+00\n",
      "   1.49366129e+00]]\n",
      "Intercept: [-6.05676287]\n"
     ]
    }
   ],
   "source": [
    "################### Degree 2 ################\n",
    "poly_features = PolynomialFeatures(degree=2)\n",
    "# transform the features to higher degree features.\n",
    "X_train_poly = poly_features.fit_transform(X_train)\n",
    "# fit the transformed features to Linear Regression\n",
    "poly_model = LogisticRegression()\n",
    "poly_model.fit(X_train_poly, Y_train)   \n",
    "# predicting on test data-set\n",
    "y_test_predicted = poly_model.predict(poly_features.fit_transform(X_test))\n",
    "print(\"Accuracy : {:0.10f}\".format(accuracy_score(Y_test,y_test_predicted)))\n",
    "rmse = (np.sqrt(mean_squared_error(Y_test, y_test_predicted)))\n",
    "r2 = r2_score(Y_test, y_test_predicted)\n",
    "print('RMSE is {}'.format(rmse))\n",
    "print('R2 score is {}'.format(r2))\n",
    "print('Coefficients: {}'.format(poly_model.coef_))\n",
    "print('Intercept: {}'.format(poly_model.intercept_))"
   ]
  },
  {
   "cell_type": "code",
   "execution_count": 132,
   "id": "64699156",
   "metadata": {},
   "outputs": [],
   "source": [
    "# ################### Degree 3 ################\n",
    "## CODE IS CORRECT BUT NO MEMORY TO RUN###\n",
    "# poly_features = PolynomialFeatures(degree=3)\n",
    "# # transform the features to higher degree features.\n",
    "# X_train_poly = poly_features.fit_transform(X_train)\n",
    "# # fit the transformed features to Linear Regression\n",
    "# poly_model = LogisticRegression()\n",
    "# poly_model.fit(X_train_poly, Y_train)   \n",
    "# # predicting on test data-set\n",
    "# y_test_predicted = poly_model.predict(poly_features.fit_transform(X_test))\n",
    "# print(\"Accuracy : {:0.10f}\".format(accuracy_score(Y_test,y_test_predicted)))\n",
    "# rmse = (np.sqrt(mean_squared_error(Y_test, y_test_predicted)))\n",
    "# r2 = r2_score(Y_test, y_test_predicted)\n",
    "# print('RMSE is {}'.format(rmse))\n",
    "# print('R2 score is {}'.format(r2))\n",
    "# print('Coefficients: {}'.format(poly_model.coef_))\n",
    "# print('Intercept: {}'.format(poly_model.intercept_))"
   ]
  },
  {
   "cell_type": "code",
   "execution_count": 133,
   "id": "9d1f674e",
   "metadata": {},
   "outputs": [
    {
     "data": {
      "text/plain": [
       "0.034424502595844925"
      ]
     },
     "execution_count": 133,
     "metadata": {},
     "output_type": "execute_result"
    }
   ],
   "source": [
    "################## Degree 3 ################\n",
    "poly_features = PolynomialFeatures(degree=3)\n",
    "# transform the features to higher degree features.\n",
    "X_val_poly = poly_features.fit_transform(X_val)\n",
    "# fit the transformed features to Linear Regression\n",
    "poly_model = LogisticRegression()\n",
    " \n",
    "\n",
    "#define cross-validation method to use\n",
    "cv = KFold(n_splits=5, random_state=1, shuffle=True) \n",
    "\n",
    "#use LOOCV to evaluate model\n",
    "scores = cross_val_score(poly_model, X_val_poly, Y_val, scoring='neg_mean_squared_error',\n",
    "                         cv=cv, n_jobs=-1)\n",
    "\n",
    "#view RMSE\n",
    "sqrt(mean(absolute(scores)))\n"
   ]
  },
  {
   "cell_type": "code",
   "execution_count": 134,
   "id": "aeadfbd4",
   "metadata": {},
   "outputs": [
    {
     "name": "stdout",
     "output_type": "stream",
     "text": [
      "List of possible accuracy: [0.9988047376709595, 0.9988220261464617, 0.9988102385495283, 0.9987976651127994, 0.9987960934332083]\n",
      "\n",
      "Maximum Accuracy That can be obtained from this model is: 99.88220261464616 %\n",
      "\n",
      "Minimum Accuracy: 99.87960934332082 %\n",
      "\n",
      "Overall Accuracy: 99.88061521825914 %\n"
     ]
    }
   ],
   "source": [
    "##############################################################################\n",
    "#was run on a degree of 1 becuase higher degrees took a very long time to run#\n",
    "##############################################################################\n",
    "\n",
    "skf = StratifiedKFold(n_splits=5, shuffle=True, random_state=1)\n",
    "lst_accu_stratified = []\n",
    "lr = LogisticRegression()\n",
    "\n",
    "for train_index, test_index in skf.split(Train_scaled, Test):\n",
    "    x_train_fold, x_test_fold = Train_scaled[train_index], Train_scaled[test_index]\n",
    "    y_train_fold, y_test_fold = Test[train_index], Test[test_index]\n",
    "    lr.fit(x_train_fold, y_train_fold)\n",
    "    lst_accu_stratified.append(lr.score(x_test_fold, y_test_fold))\n",
    "\n",
    "# Print the output.\n",
    "print('List of possible accuracy:', lst_accu_stratified)\n",
    "print('\\nMaximum Accuracy That can be obtained from this model is:',\n",
    "      max(lst_accu_stratified)*100, '%')\n",
    "print('\\nMinimum Accuracy:',\n",
    "      min(lst_accu_stratified)*100, '%')\n",
    "print('\\nOverall Accuracy:',\n",
    "      mean(lst_accu_stratified)*100, '%')"
   ]
  },
  {
   "cell_type": "code",
   "execution_count": 135,
   "id": "b4b6d177",
   "metadata": {},
   "outputs": [],
   "source": [
    "############################## REGULARIZATION ###############################################\n",
    "##############################################################################\n",
    "#was run on a degree of 1 becuase higher degrees took a very long time to run#\n",
    "##############################################################################\n",
    "def plot_errors(lambdas, train_errors, CV_errors, title):\n",
    "    plt.figure(figsize=(16, 9))\n",
    "    plt.plot(lambdas, train_errors, label=\"train\")\n",
    "    plt.plot(lambdas, CV_errors, label=\"CV\")\n",
    "    plt.xlabel(\"$\\\\lambda$\", fontsize=14)\n",
    "    plt.ylabel(\"MSE\", fontsize=14)\n",
    "    plt.title(title, fontsize=20)\n",
    "    plt.legend(fontsize=14)\n",
    "    plt.show()\n",
    "\n",
    "def evaluate_model(Model, lambdas):\n",
    "    training_errors = [] # we will store the error on the training set, for using each different lambda\n",
    "    CV_errors = [] # and the error on the CV set\n",
    "#     poly_featurescv = PolynomialFeatures(degree=1)\n",
    "#     X_val_poly = poly_featurescv.fit_transform(X_train)\n",
    "    for l in lambdas:\n",
    "        model = Model(alpha=l, max_iter=1000) # we allow max number of iterations until the model converges\n",
    "        model.fit(X_train, Y_train)\n",
    "        training_predictions = model.predict(X_train)\n",
    "        training_mse = mean_squared_error(Y_train, training_predictions)\n",
    "        training_errors.append(training_mse)\n",
    "\n",
    "        CV_predictions = model.predict(X_val)\n",
    "        CV_mse = mean_squared_error(Y_val, CV_predictions)\n",
    "        CV_errors.append(CV_mse)\n",
    "    return training_errors, CV_errors"
   ]
  },
  {
   "cell_type": "code",
   "execution_count": 136,
   "id": "03c7cc65",
   "metadata": {},
   "outputs": [
    {
     "data": {
      "image/png": "[encoded data removed]",
      "text/plain": [
       "<Figure size 1152x648 with 1 Axes>"
      ]
     },
     "metadata": {
      "needs_background": "light"
     },
     "output_type": "display_data"
    }
   ],
   "source": [
    "lambdas = np.arange(0,2, step=0.01)\n",
    "ridge_train, ridge_test = evaluate_model(Ridge, lambdas)\n",
    "plot_errors(lambdas, ridge_test ,ridge_train, \"Regularization using Ridge\")"
   ]
  },
  {
   "cell_type": "code",
   "execution_count": null,
   "id": "e6696948",
   "metadata": {},
   "outputs": [],
   "source": []
  }
 ],
 "metadata": {
  "kernelspec": {
   "display_name": "Python 3 (ipykernel)",
   "language": "python",
   "name": "python3"
  },
  "language_info": {
   "codemirror_mode": {
    "name": "ipython",
    "version": 3
   },
   "file_extension": ".py",
   "mimetype": "text/x-python",
   "name": "python",
   "nbconvert_exporter": "python",
   "pygments_lexer": "ipython3",
   "version": "3.8.8"
  }
 },
 "nbformat": 4,
 "nbformat_minor": 5
}
